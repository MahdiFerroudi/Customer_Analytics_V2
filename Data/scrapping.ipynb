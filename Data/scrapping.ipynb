{
 "cells": [
  {
   "cell_type": "code",
   "execution_count": 1,
   "metadata": {},
   "outputs": [
    {
     "name": "stderr",
     "output_type": "stream",
     "text": [
      "C:\\Users\\hp\\AppData\\Local\\Temp\\ipykernel_2688\\2982579878.py:6: DeprecationWarning: executable_path has been deprecated, please pass in a Service object\n",
      "  driver = webdriver.Chrome(\"C:/Users/hp/Desktop/chromedriver_win32/chromedriver.exe\")\n"
     ]
    }
   ],
   "source": [
    "from selenium import webdriver\n",
    "import time\n",
    "import csv\n",
    "\n",
    "# Set up the webdriver\n",
    "driver = webdriver.Chrome(\"C:/Users/hp/Desktop/chromedriver_win32/chromedriver.exe\")"
   ]
  },
  {
   "cell_type": "code",
   "execution_count": 2,
   "metadata": {},
   "outputs": [],
   "source": [
    "from selenium.webdriver.chrome.options import Options\n",
    "\n",
    "options = Options()\n",
    "options.add_argument('--disable-blink-features=AutomationControlled')"
   ]
  },
  {
   "cell_type": "code",
   "execution_count": 15,
   "metadata": {},
   "outputs": [
    {
     "name": "stderr",
     "output_type": "stream",
     "text": [
      "C:\\Users\\hp\\AppData\\Local\\Temp\\ipykernel_2688\\1830350068.py:8: DeprecationWarning: executable_path has been deprecated, please pass in a Service object\n",
      "  driver = webdriver.Chrome(\"C:/Users/hp/Desktop/chromedriver_win32/chromedriver.exe\")\n"
     ]
    }
   ],
   "source": [
    "from selenium import webdriver\n",
    "from selenium.common.exceptions import NoSuchElementException\n",
    "import time\n",
    "from datetime import datetime\n",
    "\n",
    "\n",
    "# set up driver\n",
    "driver = webdriver.Chrome(\"C:/Users/hp/Desktop/chromedriver_win32/chromedriver.exe\")\n",
    "\n",
    "# set up lists to store reviews, ratings, and dates\n",
    "reviews = []\n",
    "ratings = []\n",
    "dates = []\n",
    "\n",
    "# loop through pages\n",
    "for page in range(1,2):\n",
    "    # navigate to page\n",
    "    url = f\"https://www.poulpeo.com/avis/red-by-sfr.htm\"\n",
    "    driver.get(url)\n",
    "    time.sleep(10)  # wait for page to load\n",
    "\n",
    "    # extract reviews, ratings, and dates on page\n",
    "    for i in range(5, 51):\n",
    "        try:\n",
    "            # extract review text\n",
    "            review_element = driver.find_element(\"xpath\" ,f\"/html/body/div[2]/div/div[2]/div/div[1]/div[1]/div[2]/div[{i}]/div/div[2]\")\n",
    "            review_text = review_element.text.strip()\n",
    "            reviews.append(review_text)\n",
    "\n",
    "            # extract rating\n",
    "            rating_element = driver.find_element(\"xpath\",f\"/html/body/div[2]/div/div[2]/div/div[1]/div[1]/div[2]/div[52]/div[{i}]/div/div[1]/span[2]\")\n",
    "            rating_class = rating_element.get_attribute(\"class\")\n",
    "            rating = rating_class.split(\" \")[-1].lstrip(\"r\")\n",
    "            ratings.append(rating)\n",
    "\n",
    "            # # extract date\n",
    "            date_element = driver.find_element(\"xpath\", f\"/html/body/div[2]/div/div[2]/div/div[1]/div[1]/div[2]/div[{i}]/div/div[1]/time[2]\")\n",
    "            review_date = date_element.text        \n",
    "            dates.append(review_date)\n",
    "\n",
    "        except NoSuchElementException:\n",
    "            pass\n",
    "\n",
    "# close driver\n",
    "driver.quit()"
   ]
  },
  {
   "cell_type": "code",
   "execution_count": 17,
   "metadata": {},
   "outputs": [
    {
     "data": {
      "text/plain": [
       "[]"
      ]
     },
     "execution_count": 17,
     "metadata": {},
     "output_type": "execute_result"
    }
   ],
   "source": [
    "ratings"
   ]
  },
  {
   "cell_type": "code",
   "execution_count": 6,
   "metadata": {},
   "outputs": [
    {
     "name": "stderr",
     "output_type": "stream",
     "text": [
      "C:\\Users\\hp\\AppData\\Local\\Temp\\ipykernel_29104\\3928343399.py:8: DeprecationWarning: executable_path has been deprecated, please pass in a Service object\n",
      "  driver = webdriver.Chrome(\"C:/Users/hp/Desktop/chromedriver_win32/chromedriver.exe\")\n"
     ]
    }
   ],
   "source": [
    "from selenium import webdriver\n",
    "from selenium.common.exceptions import NoSuchElementException\n",
    "import time\n",
    "from datetime import datetime\n",
    "\n",
    "\n",
    "# set up driver\n",
    "driver = webdriver.Chrome(\"C:/Users/hp/Desktop/chromedriver_win32/chromedriver.exe\")\n",
    "\n",
    "# set up lists to store reviews, ratings, and dates\n",
    "reviews = []\n",
    "ratings = []\n",
    "dates = []\n",
    "\n",
    "# loop through pages\n",
    "for page in range(1,611):\n",
    "    # navigate to page\n",
    "    url = f\"https://fr.trustpilot.com/review/www.sfr.fr?page={page}\"\n",
    "    driver.get(url)\n",
    "    time.sleep(2)  # wait for page to load\n",
    "\n",
    "    # extract reviews, ratings, and dates on page\n",
    "    for i in range(4, 25):\n",
    "        try:\n",
    "            # extract review text\n",
    "            review_element = driver.find_element(\"xpath\" ,f\"/html/body/div[1]/div/div/div/main/div/div[4]/section/div[{i}]/article/section/div[2]/p[1]\")\n",
    "            review_text = review_element.text.strip()\n",
    "            reviews.append(review_text)\n",
    "\n",
    "            # extract rating\n",
    "            rating_element = driver.find_element(\"xpath\", f\"/html/body/div[1]/div/div/div/main/div/div[4]/section/div[{i}]/article/section/div[1]/div[1]/img\")\n",
    "            rating_src = rating_element.get_attribute(\"src\")\n",
    "            rating_value = int(rating_src.split(\"-\")[-1].split(\".\")[0]) / 10\n",
    "            ratings.append(rating_value)\n",
    "\n",
    "            # # extract date\n",
    "            date_element = driver.find_element(\"xpath\", f\"/html/body/div[1]/div/div/div/main/div/div[4]/section/div[{i}]/article/section/div[1]/div[2]/time\")\n",
    "            review_date = date_element.get_attribute(\"datetime\")         \n",
    "            dates.append(review_date)\n",
    "\n",
    "\n",
    "\n",
    "        except NoSuchElementException:\n",
    "            pass\n",
    "\n",
    "# close driver\n",
    "driver.quit()"
   ]
  },
  {
   "cell_type": "code",
   "execution_count": 7,
   "metadata": {},
   "outputs": [],
   "source": [
    "def save_to_csv(reviews,ratings,dates, filename):\n",
    "    with open(filename, mode='w', encoding='utf-8', newline='') as csvfile:\n",
    "        csv_writer = csv.writer(csvfile)\n",
    "        csv_writer.writerow(['Date','Review','Rating'])  # Write the header\n",
    "        for review, rating, dates in zip(reviews, ratings, dates):\n",
    "            csv_writer.writerow([dates, review, rating])"
   ]
  },
  {
   "cell_type": "code",
   "execution_count": 8,
   "metadata": {},
   "outputs": [
    {
     "ename": "",
     "evalue": "",
     "output_type": "error",
     "traceback": [
      "\u001b[1;31mThe Kernel crashed while executing code in the the current cell or a previous cell. Please review the code in the cell(s) to identify a possible cause of the failure. Click <a href='https://aka.ms/vscodeJupyterKernelCrash'>here</a> for more info. View Jupyter <a href='command:jupyter.viewOutput'>log</a> for further details."
     ]
    }
   ],
   "source": [
    "save_to_csv(reviews, ratings, dates,'13K.csv')"
   ]
  }
 ],
 "metadata": {
  "kernelspec": {
   "display_name": "Python 3",
   "language": "python",
   "name": "python3"
  },
  "language_info": {
   "codemirror_mode": {
    "name": "ipython",
    "version": 3
   },
   "file_extension": ".py",
   "mimetype": "text/x-python",
   "name": "python",
   "nbconvert_exporter": "python",
   "pygments_lexer": "ipython3",
   "version": "3.9.13"
  },
  "orig_nbformat": 4,
  "vscode": {
   "interpreter": {
    "hash": "43a24ecce625020f2d6631fb4cfb730bba30d877e9fe9ec2e0d85cb5a52a2b64"
   }
  }
 },
 "nbformat": 4,
 "nbformat_minor": 2
}
