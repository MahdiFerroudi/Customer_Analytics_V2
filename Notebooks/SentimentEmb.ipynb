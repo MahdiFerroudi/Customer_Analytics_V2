{
  "cells": [
    {
      "cell_type": "code",
      "execution_count": null,
      "metadata": {},
      "outputs": [],
      "source": [
        "model = SentenceTransformer(\"dangvantuan/sentence-camembert-large\")"
      ]
    },
    {
      "cell_type": "code",
      "execution_count": 1,
      "metadata": {
        "colab": {
          "base_uri": "https://localhost:8080/"
        },
        "id": "O2BMfxSQh6eV",
        "outputId": "d2f60181-7ac8-4b13-87e8-7f68c6592895"
      },
      "outputs": [
        {
          "name": "stdout",
          "output_type": "stream",
          "text": [
            "Requirement already satisfied: transformers in c:\\users\\hp\\appdata\\local\\packages\\pythonsoftwarefoundation.python.3.9_qbz5n2kfra8p0\\localcache\\local-packages\\python39\\site-packages (4.27.2)Note: you may need to restart the kernel to use updated packages.\n",
            "\n",
            "Requirement already satisfied: filelock in c:\\users\\hp\\appdata\\local\\packages\\pythonsoftwarefoundation.python.3.9_qbz5n2kfra8p0\\localcache\\local-packages\\python39\\site-packages (from transformers) (3.8.0)\n",
            "Requirement already satisfied: huggingface-hub<1.0,>=0.11.0 in c:\\users\\hp\\appdata\\local\\packages\\pythonsoftwarefoundation.python.3.9_qbz5n2kfra8p0\\localcache\\local-packages\\python39\\site-packages (from transformers) (0.13.3)\n",
            "Requirement already satisfied: numpy>=1.17 in c:\\users\\hp\\appdata\\local\\packages\\pythonsoftwarefoundation.python.3.9_qbz5n2kfra8p0\\localcache\\local-packages\\python39\\site-packages (from transformers) (1.24.2)\n",
            "Requirement already satisfied: packaging>=20.0 in c:\\users\\hp\\appdata\\local\\packages\\pythonsoftwarefoundation.python.3.9_qbz5n2kfra8p0\\localcache\\local-packages\\python39\\site-packages (from transformers) (21.3)\n",
            "Requirement already satisfied: pyyaml>=5.1 in c:\\users\\hp\\appdata\\local\\packages\\pythonsoftwarefoundation.python.3.9_qbz5n2kfra8p0\\localcache\\local-packages\\python39\\site-packages (from transformers) (6.0)\n",
            "Requirement already satisfied: regex!=2019.12.17 in c:\\users\\hp\\appdata\\local\\packages\\pythonsoftwarefoundation.python.3.9_qbz5n2kfra8p0\\localcache\\local-packages\\python39\\site-packages (from transformers) (2022.10.31)\n",
            "Requirement already satisfied: requests in c:\\users\\hp\\appdata\\local\\packages\\pythonsoftwarefoundation.python.3.9_qbz5n2kfra8p0\\localcache\\local-packages\\python39\\site-packages (from transformers) (2.26.0)\n",
            "Requirement already satisfied: tokenizers!=0.11.3,<0.14,>=0.11.1 in c:\\users\\hp\\appdata\\local\\packages\\pythonsoftwarefoundation.python.3.9_qbz5n2kfra8p0\\localcache\\local-packages\\python39\\site-packages (from transformers) (0.13.2)\n",
            "Requirement already satisfied: tqdm>=4.27 in c:\\users\\hp\\appdata\\local\\packages\\pythonsoftwarefoundation.python.3.9_qbz5n2kfra8p0\\localcache\\local-packages\\python39\\site-packages (from transformers) (4.62.3)\n",
            "Requirement already satisfied: typing-extensions>=3.7.4.3 in c:\\users\\hp\\appdata\\local\\packages\\pythonsoftwarefoundation.python.3.9_qbz5n2kfra8p0\\localcache\\local-packages\\python39\\site-packages (from huggingface-hub<1.0,>=0.11.0->transformers) (4.4.0)\n",
            "Requirement already satisfied: pyparsing!=3.0.5,>=2.0.2 in c:\\users\\hp\\appdata\\local\\packages\\pythonsoftwarefoundation.python.3.9_qbz5n2kfra8p0\\localcache\\local-packages\\python39\\site-packages (from packaging>=20.0->transformers) (3.0.9)\n",
            "Requirement already satisfied: colorama in c:\\users\\hp\\appdata\\local\\packages\\pythonsoftwarefoundation.python.3.9_qbz5n2kfra8p0\\localcache\\local-packages\\python39\\site-packages (from tqdm>=4.27->transformers) (0.4.6)\n",
            "Requirement already satisfied: urllib3<1.27,>=1.21.1 in c:\\users\\hp\\appdata\\local\\packages\\pythonsoftwarefoundation.python.3.9_qbz5n2kfra8p0\\localcache\\local-packages\\python39\\site-packages (from requests->transformers) (1.26.7)\n",
            "Requirement already satisfied: certifi>=2017.4.17 in c:\\users\\hp\\appdata\\local\\packages\\pythonsoftwarefoundation.python.3.9_qbz5n2kfra8p0\\localcache\\local-packages\\python39\\site-packages (from requests->transformers) (2021.10.8)\n",
            "Requirement already satisfied: charset-normalizer~=2.0.0 in c:\\users\\hp\\appdata\\local\\packages\\pythonsoftwarefoundation.python.3.9_qbz5n2kfra8p0\\localcache\\local-packages\\python39\\site-packages (from requests->transformers) (2.0.7)\n",
            "Requirement already satisfied: idna<4,>=2.5 in c:\\users\\hp\\appdata\\local\\packages\\pythonsoftwarefoundation.python.3.9_qbz5n2kfra8p0\\localcache\\local-packages\\python39\\site-packages (from requests->transformers) (3.3)\n"
          ]
        },
        {
          "name": "stderr",
          "output_type": "stream",
          "text": [
            "WARNING: Ignoring invalid distribution -rotobuf (c:\\users\\hp\\appdata\\local\\packages\\pythonsoftwarefoundation.python.3.9_qbz5n2kfra8p0\\localcache\\local-packages\\python39\\site-packages)\n",
            "WARNING: Ignoring invalid distribution -rotobuf (c:\\users\\hp\\appdata\\local\\packages\\pythonsoftwarefoundation.python.3.9_qbz5n2kfra8p0\\localcache\\local-packages\\python39\\site-packages)\n"
          ]
        }
      ],
      "source": [
        "pip install transformers"
      ]
    },
    {
      "cell_type": "code",
      "execution_count": 2,
      "metadata": {
        "_cell_guid": "b1076dfc-b9ad-4769-8c92-a6c4dae69d19",
        "_uuid": "8f2839f25d086af736a60e9eeb907d3b93b6e0e5",
        "colab": {
          "base_uri": "https://localhost:8080/"
        },
        "execution": {
          "iopub.execute_input": "2023-05-15T10:11:29.096024Z",
          "iopub.status.busy": "2023-05-15T10:11:29.094835Z",
          "iopub.status.idle": "2023-05-15T10:11:38.068664Z",
          "shell.execute_reply": "2023-05-15T10:11:38.066525Z",
          "shell.execute_reply.started": "2023-05-15T10:11:29.095980Z"
        },
        "id": "U6jW5fzd7QQW",
        "outputId": "50d87a02-1f7d-4446-ea6e-e54951b75017",
        "trusted": true
      },
      "outputs": [
        {
          "name": "stderr",
          "output_type": "stream",
          "text": [
            "C:\\Users\\hp\\AppData\\Local\\Temp\\ipykernel_25028\\1840354344.py:30: FutureWarning: Passing a negative integer is deprecated in version 1.0 and will not be supported in future version. Instead, use None to not limit the column width.\n",
            "  pd.set_option('display.max_colwidth', -1)\n",
            "[nltk_data] Downloading package stopwords to\n",
            "[nltk_data]     C:\\Users\\hp\\AppData\\Roaming\\nltk_data...\n",
            "[nltk_data]   Package stopwords is already up-to-date!\n"
          ]
        }
      ],
      "source": [
        "## for data\n",
        "import json\n",
        "import pandas as pd\n",
        "import numpy as np\n",
        "from sklearn import metrics, manifold\n",
        "## for processing\n",
        "import re\n",
        "import nltk\n",
        "## for plotting\n",
        "import matplotlib.pyplot as plt\n",
        "import seaborn as sns\n",
        "## for w2v\n",
        "import gensim\n",
        "import gensim.downloader as gensim_api\n",
        "## for bert\n",
        "import transformers\n",
        "import pandas as pd\n",
        "import tarfile\n",
        "import os\n",
        "import gc\n",
        "import random\n",
        "\n",
        "import matplotlib.pyplot as plt\n",
        "import seaborn as sns\n",
        "\n",
        "\n",
        "from sklearn.model_selection import StratifiedKFold\n",
        "from sklearn.metrics import precision_score, recall_score, f1_score\n",
        "\n",
        "pd.set_option('display.max_colwidth', -1)\n",
        "pd.set_option('display.max_rows',5000)\n",
        "from tqdm.autonotebook import tqdm\n",
        "import pandas as pd\n",
        "from sklearn.feature_extraction.text import TfidfVectorizer\n",
        "from sklearn.metrics.pairwise import cosine_similarity\n",
        "from sklearn.svm import SVC\n",
        "\n",
        "# Import Libraries\n",
        "import pandas as pd\n",
        "import numpy as np\n",
        "import re\n",
        "from sklearn.model_selection import train_test_split\n",
        "from sklearn.preprocessing import LabelEncoder\n",
        "import nltk\n",
        "from nltk.corpus import stopwords\n",
        "nltk.download('stopwords')\n",
        "\n",
        "import warnings\n",
        "warnings.filterwarnings('ignore')"
      ]
    },
    {
      "cell_type": "code",
      "execution_count": 12,
      "metadata": {
        "colab": {
          "base_uri": "https://localhost:8080/",
          "height": 528
        },
        "execution": {
          "iopub.execute_input": "2023-05-15T10:14:06.815687Z",
          "iopub.status.busy": "2023-05-15T10:14:06.815334Z",
          "iopub.status.idle": "2023-05-15T10:14:06.871814Z",
          "shell.execute_reply": "2023-05-15T10:14:06.870832Z",
          "shell.execute_reply.started": "2023-05-15T10:14:06.815659Z"
        },
        "id": "OtUkMYDQ7QQc",
        "outputId": "0ed483b3-ae79-4dd6-b9f8-f2523b102f97",
        "trusted": true
      },
      "outputs": [
        {
          "data": {
            "text/html": [
              "<div>\n",
              "<style scoped>\n",
              "    .dataframe tbody tr th:only-of-type {\n",
              "        vertical-align: middle;\n",
              "    }\n",
              "\n",
              "    .dataframe tbody tr th {\n",
              "        vertical-align: top;\n",
              "    }\n",
              "\n",
              "    .dataframe thead th {\n",
              "        text-align: right;\n",
              "    }\n",
              "</style>\n",
              "<table border=\"1\" class=\"dataframe\">\n",
              "  <thead>\n",
              "    <tr style=\"text-align: right;\">\n",
              "      <th></th>\n",
              "      <th>Date</th>\n",
              "      <th>Review</th>\n",
              "      <th>Rating</th>\n",
              "    </tr>\n",
              "  </thead>\n",
              "  <tbody>\n",
              "    <tr>\n",
              "      <th>0</th>\n",
              "      <td>05/05/2023</td>\n",
              "      <td>A FUIR !!!!!!!!!!!!!!! Très mécontente, après avoir attendu 6 heures le technicien (dans un appartement loin de chez moi où je ne pouvais rien faire, et ayant dû poser ma journée) personne n'est venu, on m'a promis un dédommagement au téléphone et maintenant ils disent qu'il n'y a pas d'écrit et que cela fait plus de deux mois (j'ai relancé entre temps 2 fois !).... ULTRA mécontente, une vraie ARNAQUE !</td>\n",
              "      <td>1</td>\n",
              "    </tr>\n",
              "    <tr>\n",
              "      <th>1</th>\n",
              "      <td>05/05/2023</td>\n",
              "      <td>Prise de rdv pour une installation fibre chez ma grand-mère. Le technicien refuse d'acheminer le câble où elle lui demande en prétextant des impossibilités techniques, n'en fait qu'à sa tête et creuse un trou dans la terrasse pour faire passer le câble. Ma mère est obligée d'intervenir et lui demande de tout arrêter. Il s'en va. Nouvelle prise de rendez-vous, nous demandons à changer de sous-traitant. Le rdv est pris pour un autre matin. Puis ce matin là à 9h, il est déplacé pour 13h et finalement le technicien ne viendra pas. Le rendez-vous est alors reporté au lendemain après-midi et une conseillère me planifie un rdv téléphonique à la suite de ce rdv (elle ne l'a bien sûr pas honoré). Finalement c'est le même sous-traitant, mais un technicien plus expérimenté. Il rebouche le trou (bien sur pas la bonne couleur). L'installation se passe bien. 1 journée et demie de perdu (= congés sans soldes), 1 terrasse détériorée. Je demande un dédommagement pour tout cela. On me propose un mois gratuit. Soit 10% de la somme que ça a engendré en frais annexe. Rien de plus, à peine des excuses, la conseillère absolument pas empathique ou sympathique, même pas de bonne journée en fin d'appel. Évidemment pour arriver à avoir cette personne je suis passée par au moins 10 interlocuteurs. Je suis dégoutée par ce traitement. Je suis dégoutée par SFR qui impose un certains nombre d'interventions à ses sous-traitants et par conséquent qu'ils ne peuvent pas honorés leurs rendez-vous. Je suis dégoutée du mépris du 1er technicien envers ma grand-mère. Pour l'instant le téléphone ne fonctionne toujours pas car le câble tel est différent entre l'ADSL et la fibre mais ça ce n'est rien par rapport au reste...</td>\n",
              "      <td>1</td>\n",
              "    </tr>\n",
              "    <tr>\n",
              "      <th>2</th>\n",
              "      <td>05/02/2023</td>\n",
              "      <td>Nous n'arrivions pas à faire changer notre connect tv auprès du service client qui disfonctionnait. Au bout de 3 mois nous avons réussi et ils ont envoyé le matériel à notre ancienne adresse...! Après ça, les problèmes de la Connect tv étaient les mêmes... nous avons dû acheter notre propre matériel.</td>\n",
              "      <td>1</td>\n",
              "    </tr>\n",
              "    <tr>\n",
              "      <th>3</th>\n",
              "      <td>05/01/2023</td>\n",
              "      <td>Je suis partie vivre à l’étranger. J’ai donc retiré ma carte SIM de mon téléphone. J’ai reçu des factures de téléphone avec du hors forfait. Je souligne bien que ma puce n’était même pas dans mon téléphone. À boycotter SFR ! Des voleurs !</td>\n",
              "      <td>1</td>\n",
              "    </tr>\n",
              "    <tr>\n",
              "      <th>4</th>\n",
              "      <td>21/04/2023</td>\n",
              "      <td>Zéro étoile j’ai résilié une option netflix depuis 20 février 2022 et on me prélève toujours on est le 21/04/2023 sois disant sans engament. Oui je suis d’accord avec les autre avis des gros voleurs et leur service clients déplorables qui touche un salaire et vous font croire qui vont resoudre le problème, il sont entrain de couler l’entreprise, fuyez pauvre fou.</td>\n",
              "      <td>1</td>\n",
              "    </tr>\n",
              "  </tbody>\n",
              "</table>\n",
              "</div>"
            ],
            "text/plain": [
              "         Date  \\\n",
              "0  05/05/2023   \n",
              "1  05/05/2023   \n",
              "2  05/02/2023   \n",
              "3  05/01/2023   \n",
              "4  21/04/2023   \n",
              "\n",
              "                                                                                                                                                                                                                                                                                                                                                                                                                                                                                                                                                                                                                                                                                                                                                                                                                                                                                                                                                                                                                                                                                                                                                                                                                                                                                                                                                                                                                                                                                                                                                                                                                                                                                                                                                                          Review  \\\n",
              "0  A FUIR !!!!!!!!!!!!!!! Très mécontente, après avoir attendu 6 heures le technicien (dans un appartement loin de chez moi où je ne pouvais rien faire, et ayant dû poser ma journée) personne n'est venu, on m'a promis un dédommagement au téléphone et maintenant ils disent qu'il n'y a pas d'écrit et que cela fait plus de deux mois (j'ai relancé entre temps 2 fois !).... ULTRA mécontente, une vraie ARNAQUE !                                                                                                                                                                                                                                                                                                                                                                                                                                                                                                                                                                                                                                                                                                                                                                                                                                                                                                                                                                                                                                                                                                                                                                                                                                                                                                                                                          \n",
              "1  Prise de rdv pour une installation fibre chez ma grand-mère. Le technicien refuse d'acheminer le câble où elle lui demande en prétextant des impossibilités techniques, n'en fait qu'à sa tête et creuse un trou dans la terrasse pour faire passer le câble. Ma mère est obligée d'intervenir et lui demande de tout arrêter. Il s'en va. Nouvelle prise de rendez-vous, nous demandons à changer de sous-traitant. Le rdv est pris pour un autre matin. Puis ce matin là à 9h, il est déplacé pour 13h et finalement le technicien ne viendra pas. Le rendez-vous est alors reporté au lendemain après-midi et une conseillère me planifie un rdv téléphonique à la suite de ce rdv (elle ne l'a bien sûr pas honoré). Finalement c'est le même sous-traitant, mais un technicien plus expérimenté. Il rebouche le trou (bien sur pas la bonne couleur). L'installation se passe bien. 1 journée et demie de perdu (= congés sans soldes), 1 terrasse détériorée. Je demande un dédommagement pour tout cela. On me propose un mois gratuit. Soit 10% de la somme que ça a engendré en frais annexe. Rien de plus, à peine des excuses, la conseillère absolument pas empathique ou sympathique, même pas de bonne journée en fin d'appel. Évidemment pour arriver à avoir cette personne je suis passée par au moins 10 interlocuteurs. Je suis dégoutée par ce traitement. Je suis dégoutée par SFR qui impose un certains nombre d'interventions à ses sous-traitants et par conséquent qu'ils ne peuvent pas honorés leurs rendez-vous. Je suis dégoutée du mépris du 1er technicien envers ma grand-mère. Pour l'instant le téléphone ne fonctionne toujours pas car le câble tel est différent entre l'ADSL et la fibre mais ça ce n'est rien par rapport au reste...   \n",
              "2  Nous n'arrivions pas à faire changer notre connect tv auprès du service client qui disfonctionnait. Au bout de 3 mois nous avons réussi et ils ont envoyé le matériel à notre ancienne adresse...! Après ça, les problèmes de la Connect tv étaient les mêmes... nous avons dû acheter notre propre matériel.                                                                                                                                                                                                                                                                                                                                                                                                                                                                                                                                                                                                                                                                                                                                                                                                                                                                                                                                                                                                                                                                                                                                                                                                                                                                                                                                                                                                                                                                   \n",
              "3  Je suis partie vivre à l’étranger. J’ai donc retiré ma carte SIM de mon téléphone. J’ai reçu des factures de téléphone avec du hors forfait. Je souligne bien que ma puce n’était même pas dans mon téléphone. À boycotter SFR ! Des voleurs !                                                                                                                                                                                                                                                                                                                                                                                                                                                                                                                                                                                                                                                                                                                                                                                                                                                                                                                                                                                                                                                                                                                                                                                                                                                                                                                                                                                                                                                                                                                                  \n",
              "4  Zéro étoile j’ai résilié une option netflix depuis 20 février 2022 et on me prélève toujours on est le 21/04/2023 sois disant sans engament. Oui je suis d’accord avec les autre avis des gros voleurs et leur service clients déplorables qui touche un salaire et vous font croire qui vont resoudre le problème, il sont entrain de couler l’entreprise, fuyez pauvre fou.                                                                                                                                                                                                                                                                                                                                                                                                                                                                                                                                                                                                                                                                                                                                                                                                                                                                                                                                                                                                                                                                                                                                                                                                                                                                                                                                                                                                   \n",
              "\n",
              "   Rating  \n",
              "0  1       \n",
              "1  1       \n",
              "2  1       \n",
              "3  1       \n",
              "4  1       "
            ]
          },
          "execution_count": 12,
          "metadata": {},
          "output_type": "execute_result"
        }
      ],
      "source": [
        "import pandas as pd\n",
        "\n",
        "# Charger les données\n",
        "df = pd.read_csv(\"C:/Users/hp/Downloads/categorized_data (1).csv (2)/categorized_data (1).csv\", encoding='utf-8-sig', delimiter=';', header=0)\n",
        "\n",
        "df= df.drop(['Processed Review','Category1','Category2','Category3','Sentiment','year'], axis=1)\n",
        "\n",
        "# data = data.sample(frac=1, random_state=42).reset_index(drop=True)\n",
        "df.head(5)"
      ]
    },
    {
      "cell_type": "code",
      "execution_count": 13,
      "metadata": {
        "id": "Z3fctcelrKLi"
      },
      "outputs": [],
      "source": [
        "import re\n",
        "import string\n",
        "import nltk\n",
        "from nltk.corpus import stopwords\n",
        "\n",
        "def preprocess_text(text):\n",
        "    # Convertir en minuscules\n",
        "    text = text.lower()\n",
        "\n",
        "    # Supprimer les caractères spéciaux et les emojis\n",
        "#     text = emoji.demojize(text)\n",
        "    text = re.sub(r'\\W', ' ', text)\n",
        "    text = re.sub(r':[a-z_]+:', ' ', text)\n",
        "\n",
        "    # Supprimer la ponctuation\n",
        "    text = text.translate(str.maketrans('', '', string.punctuation))\n",
        "\n",
        "    # Tokenisation\n",
        "    tokens = text.split()\n",
        "\n",
        "    # Supprimer les stopwords\n",
        "    stop_words = set(stopwords.words('french'))\n",
        "    tokens = [token for token in tokens if token not in stop_words]\n",
        "\n",
        "#     # Lemmatisation avec spaCy\n",
        "#     doc = nlp(text)\n",
        "#     tokens = [token.lemma_ for token in doc]\n",
        "\n",
        "#     # Stemming\n",
        "#     stemmer = SnowballStemmer(\"french\")\n",
        "#     tokens = [stemmer.stem(word) for word in tokens]\n",
        "\n",
        "    return ' '.join(tokens)"
      ]
    },
    {
      "cell_type": "code",
      "execution_count": 14,
      "metadata": {
        "id": "grS7CKqurQgJ"
      },
      "outputs": [],
      "source": [
        "df['Review_cleaned'] = df['Review'].apply(preprocess_text)"
      ]
    },
    {
      "cell_type": "code",
      "execution_count": 28,
      "metadata": {},
      "outputs": [],
      "source": [
        "df= df.head(300)"
      ]
    },
    {
      "cell_type": "code",
      "execution_count": 29,
      "metadata": {
        "colab": {
          "base_uri": "https://localhost:8080/"
        },
        "execution": {
          "iopub.execute_input": "2023-05-15T10:14:13.852845Z",
          "iopub.status.busy": "2023-05-15T10:14:13.852500Z",
          "iopub.status.idle": "2023-05-15T10:14:13.859249Z",
          "shell.execute_reply": "2023-05-15T10:14:13.857562Z",
          "shell.execute_reply.started": "2023-05-15T10:14:13.852816Z"
        },
        "id": "TBpO0FDP7QQe",
        "outputId": "1a2da9b5-2703-419e-b0e1-40fd777eb391",
        "trusted": true
      },
      "outputs": [
        {
          "data": {
            "text/plain": [
              "(300, 5)"
            ]
          },
          "execution_count": 29,
          "metadata": {},
          "output_type": "execute_result"
        }
      ],
      "source": [
        "df.shape"
      ]
    },
    {
      "cell_type": "code",
      "execution_count": 16,
      "metadata": {
        "execution": {
          "iopub.execute_input": "2023-05-15T10:14:18.737790Z",
          "iopub.status.busy": "2023-05-15T10:14:18.737005Z",
          "iopub.status.idle": "2023-05-15T10:14:18.755710Z",
          "shell.execute_reply": "2023-05-15T10:14:18.754768Z",
          "shell.execute_reply.started": "2023-05-15T10:14:18.737749Z"
        },
        "id": "pQM57YIC7QQf",
        "trusted": true
      },
      "outputs": [],
      "source": [
        "#### Préparer les phrases pour chaque catégorie\n",
        "categories = {\n",
        "    'Résiliation': [\n",
        "        \"Quitté pour un autre opérateur avec une portabilité le 11 janvier.\",\n",
        "         \"déjà j'avais quitté red mobile\",\n",
        "         \"J’ai essayé résilier\",\n",
        "         \"Je me suis retrouvée avec mon contrat résilié.\",\n",
        "          \"Lorsque je demande une résiliation.\",\n",
        "         \"J'ai demandé la résiliation de ma box\",\n",
        "         \"Le client exprime son souhait de résilier son offre et mentionne que l'opérateur demande des frais de résiliation.\",\n",
        "         \"Alors pour la résiliation bordel .\",\n",
        "         \"J'ai demandé la résiliation de ma box Internet le 14 juin.\",\n",
        "        \"lorsque vous résiliez votre contrat, n'applique pas la résiliation\",\n",
        "        \"La résiliation sera automatique de ce fait.\",\n",
        "        \" Demandes de résiliation par formulaire\",\n",
        "        \" j'ai voulu resilier.\",\n",
        "        \"RESILIATION.\",\n",
        "        \" apres resilation de red by sfr\"\n",
        "        ],\n",
        "    \n",
        "    'Image de marque': [\n",
        "\n",
        "        \" Des voleurs et des menteurs. Impossibilité de les joindre sauf par messenger. Attention arnaque\",\n",
        "        \"red SFR box à fuir.\",\n",
        "        \"Je pars donc de chez eux car j'en peux plus, c'est le coup de grâce !! Se sont des voleurs !!! A fuir !!!\",\n",
        "        \"Quitté pour un autre opérateur\",\n",
        "        \"Fuyez ou changez.\",\n",
        "        \"A fuir, je ne recommande pas, on se sent volé!\",\n",
        "        \"Je pense changer d’opérateur.\",\n",
        "        \"Fuyez ou changez.\"\n",
        "\n",
        "                  ],\n",
        "    \n",
        "    'Service Client': [ \n",
        "    \n",
        "            \"Impossible de joindre un conseillé N'espérez pas trouver de l'aide auprès des conseillers SFR dans une boutique car ils vous envoient sur les roses car vous n'êtes pas client chez-eux.\"\n",
        "            ,\"Le client a contacté plusieurs services clients, mais n'a obtenu aucune réponse satisfaisante. .\"\n",
        "            ,\"Contact par chat uniquement avec des conseillers incompétents qui ne savent pas pourquoi la demande est rejetée, et qui vous renvoient au site ou à faire un courrier à SFR. Le service client\",\n",
        "            \"Service client deplorable.. Elle a fini par mettre fin à la conversation sans attendre réponse de ma part.\",\n",
        "            \"ont peut que communiquer avec eux que par message SMS\",\n",
        "            \"Lorsque je les ai contacté\",\n",
        "            \"J'appelle ou je tchat quotidiennement avec le service clientèle qui n'est toujours pas en mesure de me donner un rdv pour installer et raccorder ma ligne.\",\n",
        "            \"Impossible de parler à un humain de vive voix ou de face à face.\",\n",
        "            \"Et impossible après 29 tentatives de les joindre pour remboursement de la période du 11 au 30. Drôle de manières !!!\",\n",
        "            \"c'est inacceptable\", \"je choisis les offres qui sont respectées a vie\", \"et red ne fait plus partie de ces revendeurs.\",\n",
        "            \"j'ai fait 6 demandes et de multiples appels et chat en ligne et la demande n'aboutit pas. Le SAV est totalement déficient !!!\",\n",
        "            \"Service client incompétent \",\n",
        "            \"un coup de fil, et généralement le problème est résolu rapidement\",\n",
        "            \"Service client d’une incompétence… à ce niveau là c’est du jamais vu. Une fois sur 2 on vous raccroche au nez.\",\n",
        "            \"Service client incompetent\",\n",
        "            \"Au bout de plus d’un mois à joindre leurs services quotidiennement.\",\n",
        "            \"Le service consommateur lit un script et ne sait pas quoi dire si on sort du script.\",\n",
        "            \"Aucun vrai conseiller, seulement un Bot. ça fait deux heures que j'essaie de résoudre un problème, et toutes les deux minutes ça se réinitialise et me repose les mêmes questions.\",\n",
        "            \"SAV compétent et professionnel\",\n",
        "            \"des dizaines d'échanges avec le service client, sur l'application et par téléphone\",\n",
        "            \"Le service client inactif \",\n",
        "\n",
        "\n",
        "],\n",
        "    \n",
        "    'Forfait/Offre': [ \n",
        "\n",
        "        \"On vous promet une offre à vie et hop d un couo de baguette magique on vous augmente de 30%\",\n",
        "        \"Pub TV et sans prévenir\",\n",
        "        \"Je vous propose de profitez de 15€ offerts lors de votre souscription d'abonnement chez Red. (15€ pour Red Box et 10€ pour Red mobile)\",\n",
        "        \"quand on sait que a la poste le forfait est a 9.99 euro pour 50 go dont 15 go internationale et A VIE.\",\n",
        "         \"Et lorsque vous avez quelqu'un, il vous promet un geste commercial que vous n'avez jamais, simplement pour se débarrasser de vous!\",\n",
        "        \" Netflix mais au final ils ne m'offrent ni Netflix ni le bouquet, super de faire perdre du temps aux gens pour rien.\",\n",
        "        \"Pour mes deux offres, je me retrouve régulièrement avec des options pour lesquelles je n'ai fais aucunes demandes\",\n",
        "        \"Il vous change votre abonnement sans vous prévenir pour une meilleure offre sois disant avec une prime en plus de 3 €\",\n",
        "        \"Je prends un abonnement + achat d'un téléphone pour SFR RED 200 GO; la ligne est opérationnelle le 18/03/23 après réception du matériel et carte Sim. Tout fonctionne bien.\"\n",
        "        \" j'ai un forfait mobile soit chez SFR et par la suite red\",\n",
        "        ],\n",
        "    \n",
        "    \n",
        "        'Facturation':     [\n",
        "\n",
        "                \"mon problème de facturation a été géré\"\n",
        "                \"Je n'ai jamais rencontré de problèmes avec la facturation \",\n",
        "                \"Me facture plus cher\",\n",
        "                \"Les factures reçues sont supérieures à ce qui a été convenu\",\n",
        "                \"Après plusieurs minutes à essayer d'avoir un details de facture la facture est correcte.\",\n",
        "                \"Le nombre de fois que je me suis retrouvée avec des factures augmentées on ne sait pas pourquoi... Ils vous rajoutent des options sans que vous ayez rien demandé !\",\n",
        "                \"Ils m'ont changé mon forfait sans aucune demande de ma part (toujours pareil sans aucun consentement de ma part), bien évidemment beaucoup plus cher !!!!\",\n",
        "                \"Quitté pour un autre opérateur avec une portabilité le 11 janvier, ils retirent sur ton compte l'intégralité forfait de janvier et des portions telles que Deezer.\",\n",
        "                \"Leur prix augmentent sans notification de leur part de quelques euros chaque année.\",\n",
        "                \"tous les mois paye et non remboursé pour une box dans un carton.\",\n",
        "                \"surfacturation mensuelle d'une option tv que je n ai pas\",\n",
        "                \"Prix en perpetuelle augmentation\",\n",
        "                \"Elle n'a pas été effective et j'ai été facturée les mois de juin, juillet et août. À ce jour, donc en octobre, j'attends toujours le remboursement après des dizaines d'échanges avec le service client, sur l'application et par téléphone, qui me confirment à chaque fois que je vais être remboursée mais ce est absolument pas le cas. attends toujours.\",\n",
        "                \"J'ai été facturée les mois de juin, juillet et août.\",\n",
        "                \"Je me retrouve donc certains mois avec +3€ par-ci, +5€ par là.\",\n",
        "                \"Je suis très satisfait de la façon dont mon fournisseur de téléphonie traite les problèmes de facturation.\",\n",
        "                \"Je suis très mécontent de la facturation exorbitante\",\n",
        "\n",
        "\n",
        "\n",
        "                ],\n",
        "    \n",
        "    \n",
        "\n",
        "\n",
        "                'Debit internet' :  [\n",
        "\n",
        "            \"La vitesse de l'internet est vraiment rapide et stable!\"\n",
        "            \"Problème sur ma fibre optique\",\n",
        "            \"pas moyen de passer un coup de fil sans coupure, ils m'ont dit configurer en appels wifi pour éviter le probleme, ok mais dans ce cas à quoi cela sert il que je paye un abonnement chez eux. minable\",\n",
        "            \" sans internet alors que c'est le seul outil nécessaire.\",\n",
        "            \"ces 4g box sont les plus éclatées que j'ai jamais eu de ma vie\",\n",
        "            \"même sans ces bugs la connexion n'est pas stable\",\n",
        "            \"Problème sur ma ligne fixe FIBRE apparu le 1 octobre\",\n",
        "            \"Problème sur ma fibre optique\",\n",
        "            \"la fibre plante un jour sur deux.\",\n",
        "            \"une offre fibre\",\n",
        "            \"pres 6 mois de fibre chez Red by Sfr\",\n",
        "            \"Problèmes de débit\"\n",
        "            ],\n",
        "\n",
        "            'Installation/Service technique' : [\n",
        "\n",
        "\n",
        "            \" un technicien est programmé pour venir le lendemain 09/03 entre 10h et 12h. Évidemment personne ne vient....\",\n",
        "            \"un rdv pour installer et raccorder ma ligne.\",\n",
        "             \"2 semaines d'attentes pour avoir un technicien.\",\n",
        "            \" aucune trace du technicien le jour J.\",\n",
        "            \" technicien absent, problème toujours présent.\",\n",
        "            \"Et les techniciens sont tous en sous-traitances ce qui fait qu'ils ne sont pas investis.\",\n",
        "             \"Le technicien ne vient pas au rdv.\",\n",
        "             \"Des rendez-vous non honorés de la part des techniciens, un problème qui vient toujours d’ailleurs.\",\n",
        "            \"Problèmes techniques récurrents avec la fibre. Ça fait 3 mois que nous l'utilisons, nous en sommes à notre 5ème dépannage pour coupure l'Internet (dont 2 la même semaine).\",\n",
        "            \"30 minutes d'attente technicien qui ne se présente pas et pas de disponibilité pour un dépannage de box qui coupe sans arrêt\",\n",
        "            \"technicien qui ne se présente pas\",\n",
        "            \"il faut appeler un technicien, qui la plupart du temps met plus d'une semaine à arriver et ne sert à rien\",\n",
        "\n",
        "\n",
        "                ],\n",
        "\n",
        "\n",
        "            'Contrat' :  [\n",
        "            \"Le contrat téléphonique est facile à gérer\"\n",
        "            \" changement de titulaire sur une ligne existante, .\"   ,\n",
        "            \"Tiens tiens tiens ... 2 mois.... c'est justement le délai légal dans lequel le FAI doit impérativement avoir effectué le raccordement. Au delà il est susceptible d'avoir des problèmes juridiques et comme par hasard on me propose ce jour là d'annuler et recommencer la procédure ...\",\n",
        "             \"ont tendance a vouloir imposer des options\",\n",
        "             \"On fait des erreurs sur votre contrat.\",\n",
        "            \"la fidélité ne paye pas même pour un service sans engagement.\",\n",
        "            \"lors de ma souscription j'étais sous liste rouge,\",\n",
        "            \" sans pour autant changer le contrat.\",\n",
        "            \"rien de cela n'est stipulé dans mon contrat\",\n",
        "            \"J'ai demandé la résiliation de mon contrat.\",\n",
        "            \"On fait des erreurs sur votre contrat… incroyable!\"\n",
        "\n",
        "\n",
        "            ],\n",
        "\n",
        "\n",
        "            'Couverture réseau' : [\"de la couverture réseau de l'opérateur.\",\n",
        "                                 \"Le réseau est très lent dans ma région et j'ai souvent des problèmes de connexion.\",\n",
        "                                 \"La qualité du réseau est très variable selon l'endroit où je me trouve.\",\n",
        "                                 \"Le service réseau est très cher par rapport à la qualité de la connexion.\",\n",
        "                                 \"J'ai rencontré des problèmes pour passer des appels et envoyer des SMS dans ma région.\",\n",
        "                                 \"Le réseau de l'opérateur est très fiable et n'a jamais été interrompu.\",\n",
        "                                 \"Le débit Internet est très instable et change souvent.\",\n",
        "                                 \"Je suis souvent coupé lors de mes appels téléphoniques en raison d'un signal faible.\",\n",
        "                                 \"Le réseau est souvent en panne et le service technique ne semble pas capable de le réparer.\",\n",
        "                                 \"La couverture réseau de l'opérateur est très limitée par rapport à la concurrence.\"\n",
        "                                 \" le réseau SFR nul \",\n",
        "                                 \"Problèmes de coupures intempestives du réseau\",\n",
        "\n",
        "                                ]\n",
        "\n",
        "}"
      ]
    },
    {
      "cell_type": "code",
      "execution_count": 1,
      "metadata": {
        "colab": {
          "base_uri": "https://localhost:8080/"
        },
        "id": "6VPbjeYBiZTw",
        "outputId": "a8ee46e3-1e0e-4331-cce5-6ef4b6f7129f"
      },
      "outputs": [
        {
          "name": "stdout",
          "output_type": "stream",
          "text": [
            "Requirement already satisfied: sentence_transformers in c:\\users\\hp\\appdata\\local\\packages\\pythonsoftwarefoundation.python.3.9_qbz5n2kfra8p0\\localcache\\local-packages\\python39\\site-packages (2.2.2)\n",
            "Requirement already satisfied: transformers<5.0.0,>=4.6.0 in c:\\users\\hp\\appdata\\local\\packages\\pythonsoftwarefoundation.python.3.9_qbz5n2kfra8p0\\localcache\\local-packages\\python39\\site-packages (from sentence_transformers) (4.27.2)\n",
            "Requirement already satisfied: tqdm in c:\\users\\hp\\appdata\\local\\packages\\pythonsoftwarefoundation.python.3.9_qbz5n2kfra8p0\\localcache\\local-packages\\python39\\site-packages (from sentence_transformers) (4.62.3)\n",
            "Requirement already satisfied: torch>=1.6.0 in c:\\users\\hp\\appdata\\local\\packages\\pythonsoftwarefoundation.python.3.9_qbz5n2kfra8p0\\localcache\\local-packages\\python39\\site-packages (from sentence_transformers) (2.0.1)\n",
            "Requirement already satisfied: torchvision in c:\\users\\hp\\appdata\\local\\packages\\pythonsoftwarefoundation.python.3.9_qbz5n2kfra8p0\\localcache\\local-packages\\python39\\site-packages (from sentence_transformers) (0.15.2)\n",
            "Requirement already satisfied: numpy in c:\\users\\hp\\appdata\\local\\packages\\pythonsoftwarefoundation.python.3.9_qbz5n2kfra8p0\\localcache\\local-packages\\python39\\site-packages (from sentence_transformers) (1.24.2)\n",
            "Requirement already satisfied: scikit-learn in c:\\users\\hp\\appdata\\local\\packages\\pythonsoftwarefoundation.python.3.9_qbz5n2kfra8p0\\localcache\\local-packages\\python39\\site-packages (from sentence_transformers) (1.2.1)\n",
            "Requirement already satisfied: scipy in c:\\users\\hp\\appdata\\local\\packages\\pythonsoftwarefoundation.python.3.9_qbz5n2kfra8p0\\localcache\\local-packages\\python39\\site-packages (from sentence_transformers) (1.10.1)\n",
            "Requirement already satisfied: nltk in c:\\users\\hp\\appdata\\local\\packages\\pythonsoftwarefoundation.python.3.9_qbz5n2kfra8p0\\localcache\\local-packages\\python39\\site-packages (from sentence_transformers) (3.8.1)\n",
            "Requirement already satisfied: sentencepiece in c:\\users\\hp\\appdata\\local\\packages\\pythonsoftwarefoundation.python.3.9_qbz5n2kfra8p0\\localcache\\local-packages\\python39\\site-packages (from sentence_transformers) (0.1.99)\n",
            "Requirement already satisfied: huggingface-hub>=0.4.0 in c:\\users\\hp\\appdata\\local\\packages\\pythonsoftwarefoundation.python.3.9_qbz5n2kfra8p0\\localcache\\local-packages\\python39\\site-packages (from sentence_transformers) (0.13.3)\n",
            "Requirement already satisfied: filelock in c:\\users\\hp\\appdata\\local\\packages\\pythonsoftwarefoundation.python.3.9_qbz5n2kfra8p0\\localcache\\local-packages\\python39\\site-packages (from huggingface-hub>=0.4.0->sentence_transformers) (3.8.0)\n",
            "Requirement already satisfied: requests in c:\\users\\hp\\appdata\\local\\packages\\pythonsoftwarefoundation.python.3.9_qbz5n2kfra8p0\\localcache\\local-packages\\python39\\site-packages (from huggingface-hub>=0.4.0->sentence_transformers) (2.26.0)\n",
            "Requirement already satisfied: pyyaml>=5.1 in c:\\users\\hp\\appdata\\local\\packages\\pythonsoftwarefoundation.python.3.9_qbz5n2kfra8p0\\localcache\\local-packages\\python39\\site-packages (from huggingface-hub>=0.4.0->sentence_transformers) (6.0)\n",
            "Requirement already satisfied: typing-extensions>=3.7.4.3 in c:\\users\\hp\\appdata\\local\\packages\\pythonsoftwarefoundation.python.3.9_qbz5n2kfra8p0\\localcache\\local-packages\\python39\\site-packages (from huggingface-hub>=0.4.0->sentence_transformers) (4.4.0)\n",
            "Requirement already satisfied: packaging>=20.9 in c:\\users\\hp\\appdata\\local\\packages\\pythonsoftwarefoundation.python.3.9_qbz5n2kfra8p0\\localcache\\local-packages\\python39\\site-packages (from huggingface-hub>=0.4.0->sentence_transformers) (21.3)\n",
            "Requirement already satisfied: sympy in c:\\users\\hp\\appdata\\local\\packages\\pythonsoftwarefoundation.python.3.9_qbz5n2kfra8p0\\localcache\\local-packages\\python39\\site-packages (from torch>=1.6.0->sentence_transformers) (1.12)\n",
            "Requirement already satisfied: networkx in c:\\users\\hp\\appdata\\local\\packages\\pythonsoftwarefoundation.python.3.9_qbz5n2kfra8p0\\localcache\\local-packages\\python39\\site-packages (from torch>=1.6.0->sentence_transformers) (3.1)\n",
            "Requirement already satisfied: jinja2 in c:\\users\\hp\\appdata\\local\\packages\\pythonsoftwarefoundation.python.3.9_qbz5n2kfra8p0\\localcache\\local-packages\\python39\\site-packages (from torch>=1.6.0->sentence_transformers) (3.0.2)\n",
            "Requirement already satisfied: colorama in c:\\users\\hp\\appdata\\local\\packages\\pythonsoftwarefoundation.python.3.9_qbz5n2kfra8p0\\localcache\\local-packages\\python39\\site-packages (from tqdm->sentence_transformers) (0.4.6)\n",
            "Requirement already satisfied: regex!=2019.12.17 in c:\\users\\hp\\appdata\\local\\packages\\pythonsoftwarefoundation.python.3.9_qbz5n2kfra8p0\\localcache\\local-packages\\python39\\site-packages (from transformers<5.0.0,>=4.6.0->sentence_transformers) (2022.10.31)\n",
            "Requirement already satisfied: tokenizers!=0.11.3,<0.14,>=0.11.1 in c:\\users\\hp\\appdata\\local\\packages\\pythonsoftwarefoundation.python.3.9_qbz5n2kfra8p0\\localcache\\local-packages\\python39\\site-packages (from transformers<5.0.0,>=4.6.0->sentence_transformers) (0.13.2)\n",
            "Requirement already satisfied: click in c:\\users\\hp\\appdata\\local\\packages\\pythonsoftwarefoundation.python.3.9_qbz5n2kfra8p0\\localcache\\local-packages\\python39\\site-packages (from nltk->sentence_transformers) (8.0.3)\n",
            "Requirement already satisfied: joblib in c:\\users\\hp\\appdata\\local\\packages\\pythonsoftwarefoundation.python.3.9_qbz5n2kfra8p0\\localcache\\local-packages\\python39\\site-packages (from nltk->sentence_transformers) (1.2.0)\n",
            "Requirement already satisfied: threadpoolctl>=2.0.0 in c:\\users\\hp\\appdata\\local\\packages\\pythonsoftwarefoundation.python.3.9_qbz5n2kfra8p0\\localcache\\local-packages\\python39\\site-packages (from scikit-learn->sentence_transformers) (3.1.0)\n",
            "Requirement already satisfied: pillow!=8.3.*,>=5.3.0 in c:\\users\\hp\\appdata\\local\\packages\\pythonsoftwarefoundation.python.3.9_qbz5n2kfra8p0\\localcache\\local-packages\\python39\\site-packages (from torchvision->sentence_transformers) (9.3.0)\n",
            "Requirement already satisfied: pyparsing!=3.0.5,>=2.0.2 in c:\\users\\hp\\appdata\\local\\packages\\pythonsoftwarefoundation.python.3.9_qbz5n2kfra8p0\\localcache\\local-packages\\python39\\site-packages (from packaging>=20.9->huggingface-hub>=0.4.0->sentence_transformers) (3.0.9)\n",
            "Requirement already satisfied: MarkupSafe>=2.0 in c:\\users\\hp\\appdata\\local\\packages\\pythonsoftwarefoundation.python.3.9_qbz5n2kfra8p0\\localcache\\local-packages\\python39\\site-packages (from jinja2->torch>=1.6.0->sentence_transformers) (2.0.1)\n",
            "Requirement already satisfied: urllib3<1.27,>=1.21.1 in c:\\users\\hp\\appdata\\local\\packages\\pythonsoftwarefoundation.python.3.9_qbz5n2kfra8p0\\localcache\\local-packages\\python39\\site-packages (from requests->huggingface-hub>=0.4.0->sentence_transformers) (1.26.7)\n",
            "Requirement already satisfied: certifi>=2017.4.17 in c:\\users\\hp\\appdata\\local\\packages\\pythonsoftwarefoundation.python.3.9_qbz5n2kfra8p0\\localcache\\local-packages\\python39\\site-packages (from requests->huggingface-hub>=0.4.0->sentence_transformers) (2021.10.8)\n",
            "Requirement already satisfied: charset-normalizer~=2.0.0 in c:\\users\\hp\\appdata\\local\\packages\\pythonsoftwarefoundation.python.3.9_qbz5n2kfra8p0\\localcache\\local-packages\\python39\\site-packages (from requests->huggingface-hub>=0.4.0->sentence_transformers) (2.0.7)\n",
            "Requirement already satisfied: idna<4,>=2.5 in c:\\users\\hp\\appdata\\local\\packages\\pythonsoftwarefoundation.python.3.9_qbz5n2kfra8p0\\localcache\\local-packages\\python39\\site-packages (from requests->huggingface-hub>=0.4.0->sentence_transformers) (3.3)\n",
            "Requirement already satisfied: mpmath>=0.19 in c:\\users\\hp\\appdata\\local\\packages\\pythonsoftwarefoundation.python.3.9_qbz5n2kfra8p0\\localcache\\local-packages\\python39\\site-packages (from sympy->torch>=1.6.0->sentence_transformers) (1.3.0)\n",
            "Note: you may need to restart the kernel to use updated packages.\n"
          ]
        },
        {
          "name": "stderr",
          "output_type": "stream",
          "text": [
            "WARNING: Ignoring invalid distribution -rotobuf (c:\\users\\hp\\appdata\\local\\packages\\pythonsoftwarefoundation.python.3.9_qbz5n2kfra8p0\\localcache\\local-packages\\python39\\site-packages)\n",
            "WARNING: Ignoring invalid distribution -rotobuf (c:\\users\\hp\\appdata\\local\\packages\\pythonsoftwarefoundation.python.3.9_qbz5n2kfra8p0\\localcache\\local-packages\\python39\\site-packages)\n"
          ]
        }
      ],
      "source": [
        "pip install sentence_transformers"
      ]
    },
    {
      "cell_type": "code",
      "execution_count": 18,
      "metadata": {
        "colab": {
          "base_uri": "https://localhost:8080/"
        },
        "execution": {
          "iopub.execute_input": "2023-05-15T10:15:22.670969Z",
          "iopub.status.busy": "2023-05-15T10:15:22.670320Z",
          "iopub.status.idle": "2023-05-15T10:15:39.829094Z",
          "shell.execute_reply": "2023-05-15T10:15:39.828120Z",
          "shell.execute_reply.started": "2023-05-15T10:15:22.670937Z"
        },
        "id": "8LU7Z1te7QQj",
        "outputId": "8c7cced5-f6ad-4b72-8fb9-a6a3ece4b524",
        "trusted": true
      },
      "outputs": [
        {
          "name": "stderr",
          "output_type": "stream",
          "text": [
            "Downloading (…)a9ef2/.gitattributes: 100%|██████████| 1.18k/1.18k [00:00<00:00, 48.8kB/s]\n",
            "Downloading (…)0246ca9ef2/README.md: 100%|██████████| 5.06k/5.06k [00:00<00:00, 600kB/s]\n",
            "Downloading (…)46ca9ef2/config.json: 100%|██████████| 683/683 [00:00<00:00, 42.5kB/s]\n",
            "Downloading pytorch_model.bin: 100%|██████████| 1.35G/1.35G [04:30<00:00, 4.99MB/s]\n",
            "Downloading (…)nce_bert_config.json: 100%|██████████| 27.0/27.0 [00:00<00:00, 3.34kB/s]\n",
            "Downloading (…)tencepiece.bpe.model: 100%|██████████| 809k/809k [00:00<00:00, 1.35MB/s]\n",
            "Downloading (…)cial_tokens_map.json: 100%|██████████| 298/298 [00:00<00:00, 37.3kB/s]\n",
            "Downloading (…)okenizer_config.json: 100%|██████████| 400/400 [00:00<00:00, 33.4kB/s]\n",
            "No sentence-transformers model found with name C:\\Users\\hp/.cache\\torch\\sentence_transformers\\dangvantuan_sentence-camembert-large. Creating a new one with MEAN pooling.\n"
          ]
        }
      ],
      "source": [
        "from sentence_transformers import SentenceTransformer, util\n",
        "\n",
        "# model = SentenceTransformer(\"dangvantuan/sentence-camembert-large\", device='cpu')\n",
        "model = SentenceTransformer(\"dangvantuan/sentence-camembert-large\")"
      ]
    },
    {
      "cell_type": "code",
      "execution_count": 19,
      "metadata": {
        "execution": {
          "iopub.execute_input": "2023-05-15T10:15:43.113717Z",
          "iopub.status.busy": "2023-05-15T10:15:43.112621Z",
          "iopub.status.idle": "2023-05-15T10:15:52.810431Z",
          "shell.execute_reply": "2023-05-15T10:15:52.809322Z",
          "shell.execute_reply.started": "2023-05-15T10:15:43.113671Z"
        },
        "id": "NCghXYWg7QQk",
        "trusted": true
      },
      "outputs": [],
      "source": [
        "# Encoder les phrases de chaque catégorie\n",
        "embeddings = {}\n",
        "for category, sentences in categories.items():\n",
        "    embeddings[category] = model.encode(sentences, convert_to_tensor=True,batch_size=1)"
      ]
    },
    {
      "cell_type": "code",
      "execution_count": 20,
      "metadata": {
        "colab": {
          "base_uri": "https://localhost:8080/"
        },
        "execution": {
          "iopub.execute_input": "2023-05-15T10:16:14.253581Z",
          "iopub.status.busy": "2023-05-15T10:16:14.253205Z",
          "iopub.status.idle": "2023-05-15T10:16:14.283282Z",
          "shell.execute_reply": "2023-05-15T10:16:14.282091Z",
          "shell.execute_reply.started": "2023-05-15T10:16:14.253552Z"
        },
        "id": "w50rNw_Z7QQl",
        "outputId": "a7804336-1c44-44a5-eadf-df99c67763cb",
        "trusted": true
      },
      "outputs": [
        {
          "data": {
            "text/plain": [
              "tensor([[ 0.3661,  0.1513,  0.3438,  ..., -0.1320,  0.0182, -0.2364],\n",
              "        [ 0.4657,  0.2827,  0.3987,  ...,  0.1490,  0.0832, -0.2711],\n",
              "        [ 0.4073,  0.2155, -0.0090,  ..., -0.0492,  0.1331,  0.0577],\n",
              "        ...,\n",
              "        [-0.0428, -0.1424, -0.1096,  ...,  0.0560, -0.1593, -0.3396],\n",
              "        [ 0.2391,  0.1677,  0.2172,  ..., -0.1963,  0.0582, -0.0734],\n",
              "        [-0.0073,  0.1699,  0.4972,  ...,  0.0868,  0.0136, -0.3541]])"
            ]
          },
          "execution_count": 20,
          "metadata": {},
          "output_type": "execute_result"
        }
      ],
      "source": [
        "embeddings[category]"
      ]
    },
    {
      "cell_type": "code",
      "execution_count": 21,
      "metadata": {
        "colab": {
          "base_uri": "https://localhost:8080/"
        },
        "execution": {
          "iopub.execute_input": "2023-05-15T10:16:16.003709Z",
          "iopub.status.busy": "2023-05-15T10:16:16.003329Z",
          "iopub.status.idle": "2023-05-15T10:16:16.011159Z",
          "shell.execute_reply": "2023-05-15T10:16:16.010265Z",
          "shell.execute_reply.started": "2023-05-15T10:16:16.003679Z"
        },
        "id": "PGl1cVel7QQm",
        "outputId": "fc7c5a00-77e5-4968-905c-86a6b80d6f59",
        "trusted": true
      },
      "outputs": [
        {
          "data": {
            "text/plain": [
              "torch.Size([11, 1024])"
            ]
          },
          "execution_count": 21,
          "metadata": {},
          "output_type": "execute_result"
        }
      ],
      "source": [
        "embeddings[category].shape"
      ]
    },
    {
      "cell_type": "code",
      "execution_count": 22,
      "metadata": {
        "colab": {
          "base_uri": "https://localhost:8080/"
        },
        "id": "TCFBRBnmNhdC",
        "outputId": "9e5c47ec-a398-4d34-deda-30c3cf4c15a6"
      },
      "outputs": [
        {
          "name": "stdout",
          "output_type": "stream",
          "text": [
            "Requirement already satisfied: transformers in c:\\users\\hp\\appdata\\local\\packages\\pythonsoftwarefoundation.python.3.9_qbz5n2kfra8p0\\localcache\\local-packages\\python39\\site-packages (4.27.2)\n",
            "Requirement already satisfied: filelock in c:\\users\\hp\\appdata\\local\\packages\\pythonsoftwarefoundation.python.3.9_qbz5n2kfra8p0\\localcache\\local-packages\\python39\\site-packages (from transformers) (3.8.0)\n",
            "Requirement already satisfied: huggingface-hub<1.0,>=0.11.0 in c:\\users\\hp\\appdata\\local\\packages\\pythonsoftwarefoundation.python.3.9_qbz5n2kfra8p0\\localcache\\local-packages\\python39\\site-packages (from transformers) (0.13.3)\n",
            "Requirement already satisfied: numpy>=1.17 in c:\\users\\hp\\appdata\\local\\packages\\pythonsoftwarefoundation.python.3.9_qbz5n2kfra8p0\\localcache\\local-packages\\python39\\site-packages (from transformers) (1.24.2)\n",
            "Requirement already satisfied: packaging>=20.0 in c:\\users\\hp\\appdata\\local\\packages\\pythonsoftwarefoundation.python.3.9_qbz5n2kfra8p0\\localcache\\local-packages\\python39\\site-packages (from transformers) (21.3)\n",
            "Requirement already satisfied: pyyaml>=5.1 in c:\\users\\hp\\appdata\\local\\packages\\pythonsoftwarefoundation.python.3.9_qbz5n2kfra8p0\\localcache\\local-packages\\python39\\site-packages (from transformers) (6.0)\n",
            "Requirement already satisfied: regex!=2019.12.17 in c:\\users\\hp\\appdata\\local\\packages\\pythonsoftwarefoundation.python.3.9_qbz5n2kfra8p0\\localcache\\local-packages\\python39\\site-packages (from transformers) (2022.10.31)\n",
            "Requirement already satisfied: requests in c:\\users\\hp\\appdata\\local\\packages\\pythonsoftwarefoundation.python.3.9_qbz5n2kfra8p0\\localcache\\local-packages\\python39\\site-packages (from transformers) (2.26.0)\n",
            "Requirement already satisfied: tokenizers!=0.11.3,<0.14,>=0.11.1 in c:\\users\\hp\\appdata\\local\\packages\\pythonsoftwarefoundation.python.3.9_qbz5n2kfra8p0\\localcache\\local-packages\\python39\\site-packages (from transformers) (0.13.2)\n",
            "Requirement already satisfied: tqdm>=4.27 in c:\\users\\hp\\appdata\\local\\packages\\pythonsoftwarefoundation.python.3.9_qbz5n2kfra8p0\\localcache\\local-packages\\python39\\site-packages (from transformers) (4.62.3)\n",
            "Requirement already satisfied: typing-extensions>=3.7.4.3 in c:\\users\\hp\\appdata\\local\\packages\\pythonsoftwarefoundation.python.3.9_qbz5n2kfra8p0\\localcache\\local-packages\\python39\\site-packages (from huggingface-hub<1.0,>=0.11.0->transformers) (4.4.0)\n",
            "Requirement already satisfied: pyparsing!=3.0.5,>=2.0.2 in c:\\users\\hp\\appdata\\local\\packages\\pythonsoftwarefoundation.python.3.9_qbz5n2kfra8p0\\localcache\\local-packages\\python39\\site-packages (from packaging>=20.0->transformers) (3.0.9)\n",
            "Requirement already satisfied: colorama in c:\\users\\hp\\appdata\\local\\packages\\pythonsoftwarefoundation.python.3.9_qbz5n2kfra8p0\\localcache\\local-packages\\python39\\site-packages (from tqdm>=4.27->transformers) (0.4.6)\n",
            "Requirement already satisfied: urllib3<1.27,>=1.21.1 in c:\\users\\hp\\appdata\\local\\packages\\pythonsoftwarefoundation.python.3.9_qbz5n2kfra8p0\\localcache\\local-packages\\python39\\site-packages (from requests->transformers) (1.26.7)\n",
            "Requirement already satisfied: certifi>=2017.4.17 in c:\\users\\hp\\appdata\\local\\packages\\pythonsoftwarefoundation.python.3.9_qbz5n2kfra8p0\\localcache\\local-packages\\python39\\site-packages (from requests->transformers) (2021.10.8)\n",
            "Requirement already satisfied: charset-normalizer~=2.0.0 in c:\\users\\hp\\appdata\\local\\packages\\pythonsoftwarefoundation.python.3.9_qbz5n2kfra8p0\\localcache\\local-packages\\python39\\site-packages (from requests->transformers) (2.0.7)\n",
            "Requirement already satisfied: idna<4,>=2.5 in c:\\users\\hp\\appdata\\local\\packages\\pythonsoftwarefoundation.python.3.9_qbz5n2kfra8p0\\localcache\\local-packages\\python39\\site-packages (from requests->transformers) (3.3)\n",
            "Note: you may need to restart the kernel to use updated packages.\n"
          ]
        },
        {
          "name": "stderr",
          "output_type": "stream",
          "text": [
            "WARNING: Ignoring invalid distribution -rotobuf (c:\\users\\hp\\appdata\\local\\packages\\pythonsoftwarefoundation.python.3.9_qbz5n2kfra8p0\\localcache\\local-packages\\python39\\site-packages)\n",
            "WARNING: Ignoring invalid distribution -rotobuf (c:\\users\\hp\\appdata\\local\\packages\\pythonsoftwarefoundation.python.3.9_qbz5n2kfra8p0\\localcache\\local-packages\\python39\\site-packages)\n"
          ]
        }
      ],
      "source": [
        "pip install transformers"
      ]
    },
    {
      "cell_type": "code",
      "execution_count": 25,
      "metadata": {
        "colab": {
          "base_uri": "https://localhost:8080/"
        },
        "id": "o1C_6aQfNG5K",
        "outputId": "ff1d6126-04f7-4178-c6b2-1565bf489381"
      },
      "outputs": [
        {
          "name": "stderr",
          "output_type": "stream",
          "text": [
            "Downloading (…)/main/tokenizer.json: 100%|██████████| 1.40M/1.40M [00:00<00:00, 3.25MB/s]\n"
          ]
        }
      ],
      "source": [
        "max_length=1024\n",
        "from transformers import AutoTokenizer, AutoModelForMaskedLM\n",
        "\n",
        "tokenizer = AutoTokenizer.from_pretrained(\"camembert-base\")\n",
        "\n",
        "\n",
        "\n",
        "for index, row in df.iterrows():\n",
        "    review = row['Review_cleaned']\n",
        "\n",
        "    # Tokenisation et limitation de la longueur\n",
        "    tokens = tokenizer.tokenize(review)\n",
        "    if len(tokens) > max_length:\n",
        "        tokens = tokens[:max_length]\n",
        "\n",
        "    review = tokenizer.convert_tokens_to_string(tokens)"
      ]
    },
    {
      "cell_type": "code",
      "execution_count": 47,
      "metadata": {
        "id": "OPPo-TJNI__s"
      },
      "outputs": [],
      "source": [
        "max_length=1024\n",
        "from transformers import CamembertModel, CamembertTokenizer\n",
        "\n",
        "\n",
        "for index, row in df.iterrows():\n",
        "    review = row['Review']\n",
        "\n",
        "    # Tokenisation et limitation de la longueur\n",
        "    tokens = tokenizer.tokenize(review)\n",
        "    if len(tokens) > max_length:\n",
        "        tokens = tokens[:max_length]\n",
        "\n",
        "    review = tokenizer.convert_tokens_to_string(tokens)\n",
        "\n",
        "    # Encoder la revue\n",
        "    try:\n",
        "        review_embedding = model.encode([review], convert_to_tensor=True)\n",
        "    except Exception as e:\n",
        "        print(f\"Error at row {index}: {e}\")\n",
        "        continue"
      ]
    },
    {
      "cell_type": "code",
      "execution_count": 30,
      "metadata": {
        "id": "31dw_ILklGNG"
      },
      "outputs": [],
      "source": [
        "from torch.nn.functional import cosine_similarity\n",
        "\n",
        "for index, row in df.iterrows():\n",
        "    review = row['Review_cleaned']\n",
        "\n",
        "    # Tokenisation et limitation de la longueur\n",
        "    tokens = tokenizer.tokenize(review)\n",
        "    if len(tokens) > max_length:\n",
        "        tokens = tokens[:max_length]\n",
        "\n",
        "    review = tokenizer.convert_tokens_to_string(tokens)\n",
        "\n",
        "    # Encoder la revue\n",
        "    try:\n",
        "        review_embedding = model.encode([review], convert_to_tensor=True)\n",
        "    except Exception as e:\n",
        "        print(f\"Error at row {index}: {e}\")\n",
        "        continue\n",
        "\n",
        "    max_similarity = -1  # Initialisez à une valeur très faible\n",
        "    max_category = None\n",
        "\n",
        "    # Parcourez chaque catégorie et chaque phrase dans chaque catégorie :\n",
        "    for category, phrase_embeddings in embeddings.items():\n",
        "        for phrase_embedding in phrase_embeddings:\n",
        "            # Calculez la similarité cosinus entre l'embedding de la revue et l'embedding de la phrase :\n",
        "            similarity = cosine_similarity(review_embedding, phrase_embedding)\n",
        "\n",
        "            # Si cette similarité est plus grande que la similarité maximale actuelle, mettez à jour la similarité maximale et la catégorie maximale :\n",
        "            if similarity > max_similarity:\n",
        "                max_similarity = similarity\n",
        "                max_category = category\n",
        "\n",
        "    # À ce stade, max_category est la catégorie de la phrase avec la plus grande similarité à la revue.\n",
        "    # Vous pouvez maintenant attribuer cette catégorie à la revue dans votre dataframe :\n",
        "    df.at[index, 'Category'] = max_category"
      ]
    },
    {
      "cell_type": "code",
      "execution_count": 32,
      "metadata": {
        "colab": {
          "base_uri": "https://localhost:8080/",
          "height": 1000
        },
        "id": "P19NCGTgmm86",
        "outputId": "204335d1-abd3-4baf-e501-e129ba237a03"
      },
      "outputs": [
        {
          "data": {
            "text/html": [
              "<div>\n",
              "<style scoped>\n",
              "    .dataframe tbody tr th:only-of-type {\n",
              "        vertical-align: middle;\n",
              "    }\n",
              "\n",
              "    .dataframe tbody tr th {\n",
              "        vertical-align: top;\n",
              "    }\n",
              "\n",
              "    .dataframe thead th {\n",
              "        text-align: right;\n",
              "    }\n",
              "</style>\n",
              "<table border=\"1\" class=\"dataframe\">\n",
              "  <thead>\n",
              "    <tr style=\"text-align: right;\">\n",
              "      <th></th>\n",
              "      <th>Date</th>\n",
              "      <th>Review</th>\n",
              "      <th>Rating</th>\n",
              "      <th>Review_cleaned</th>\n",
              "      <th>Category</th>\n",
              "    </tr>\n",
              "  </thead>\n",
              "  <tbody>\n",
              "    <tr>\n",
              "      <th>0</th>\n",
              "      <td>05/05/2023</td>\n",
              "      <td>A FUIR !!!!!!!!!!!!!!! Très mécontente, après avoir attendu 6 heures le technicien (dans un appartement loin de chez moi où je ne pouvais rien faire, et ayant dû poser ma journée) personne n'est venu, on m'a promis un dédommagement au téléphone et maintenant ils disent qu'il n'y a pas d'écrit et que cela fait plus de deux mois (j'ai relancé entre temps 2 fois !).... ULTRA mécontente, une vraie ARNAQUE !</td>\n",
              "      <td>1</td>\n",
              "      <td>a fuir très mécontente après avoir attendu 6 heures technicien appartement loin chez où pouvais rien faire dû poser journée personne venu a promis dédommagement téléphone maintenant disent a écrit cela fait plus deux mois relancé entre temps 2 fois ultra mécontente vraie arnaque</td>\n",
              "      <td>Installation/Service technique</td>\n",
              "    </tr>\n",
              "    <tr>\n",
              "      <th>1</th>\n",
              "      <td>05/05/2023</td>\n",
              "      <td>Prise de rdv pour une installation fibre chez ma grand-mère. Le technicien refuse d'acheminer le câble où elle lui demande en prétextant des impossibilités techniques, n'en fait qu'à sa tête et creuse un trou dans la terrasse pour faire passer le câble. Ma mère est obligée d'intervenir et lui demande de tout arrêter. Il s'en va. Nouvelle prise de rendez-vous, nous demandons à changer de sous-traitant. Le rdv est pris pour un autre matin. Puis ce matin là à 9h, il est déplacé pour 13h et finalement le technicien ne viendra pas. Le rendez-vous est alors reporté au lendemain après-midi et une conseillère me planifie un rdv téléphonique à la suite de ce rdv (elle ne l'a bien sûr pas honoré). Finalement c'est le même sous-traitant, mais un technicien plus expérimenté. Il rebouche le trou (bien sur pas la bonne couleur). L'installation se passe bien. 1 journée et demie de perdu (= congés sans soldes), 1 terrasse détériorée. Je demande un dédommagement pour tout cela. On me propose un mois gratuit. Soit 10% de la somme que ça a engendré en frais annexe. Rien de plus, à peine des excuses, la conseillère absolument pas empathique ou sympathique, même pas de bonne journée en fin d'appel. Évidemment pour arriver à avoir cette personne je suis passée par au moins 10 interlocuteurs. Je suis dégoutée par ce traitement. Je suis dégoutée par SFR qui impose un certains nombre d'interventions à ses sous-traitants et par conséquent qu'ils ne peuvent pas honorés leurs rendez-vous. Je suis dégoutée du mépris du 1er technicien envers ma grand-mère. Pour l'instant le téléphone ne fonctionne toujours pas car le câble tel est différent entre l'ADSL et la fibre mais ça ce n'est rien par rapport au reste...</td>\n",
              "      <td>1</td>\n",
              "      <td>prise rdv installation fibre chez grand mère technicien refuse acheminer câble où demande prétextant impossibilités techniques fait tête creuse trou terrasse faire passer câble mère obligée intervenir demande tout arrêter va nouvelle prise rendez demandons changer sous traitant rdv pris autre matin puis matin là 9h déplacé 13h finalement technicien viendra rendez alors reporté lendemain après midi conseillère planifie rdv téléphonique suite rdv a bien sûr honoré finalement sous traitant technicien plus expérimenté rebouche trou bien bonne couleur installation passe bien 1 journée demie perdu congés sans soldes 1 terrasse détériorée demande dédommagement tout cela propose mois gratuit 10 somme ça a engendré frais annexe rien plus peine excuses conseillère absolument empathique sympathique bonne journée fin appel évidemment arriver avoir cette personne passée moins 10 interlocuteurs dégoutée traitement dégoutée sfr impose certains nombre interventions sous traitants conséquent peuvent honorés leurs rendez dégoutée mépris 1er technicien envers grand mère instant téléphone fonctionne toujours car câble tel différent entre adsl fibre ça rien rapport reste</td>\n",
              "      <td>Installation/Service technique</td>\n",
              "    </tr>\n",
              "  </tbody>\n",
              "</table>\n",
              "</div>"
            ],
            "text/plain": [
              "         Date  \\\n",
              "0  05/05/2023   \n",
              "1  05/05/2023   \n",
              "\n",
              "                                                                                                                                                                                                                                                                                                                                                                                                                                                                                                                                                                                                                                                                                                                                                                                                                                                                                                                                                                                                                                                                                                                                                                                                                                                                                                                                                                                                                                                                                                                                                                                                                                                                                                                                                                          Review  \\\n",
              "0  A FUIR !!!!!!!!!!!!!!! Très mécontente, après avoir attendu 6 heures le technicien (dans un appartement loin de chez moi où je ne pouvais rien faire, et ayant dû poser ma journée) personne n'est venu, on m'a promis un dédommagement au téléphone et maintenant ils disent qu'il n'y a pas d'écrit et que cela fait plus de deux mois (j'ai relancé entre temps 2 fois !).... ULTRA mécontente, une vraie ARNAQUE !                                                                                                                                                                                                                                                                                                                                                                                                                                                                                                                                                                                                                                                                                                                                                                                                                                                                                                                                                                                                                                                                                                                                                                                                                                                                                                                                                          \n",
              "1  Prise de rdv pour une installation fibre chez ma grand-mère. Le technicien refuse d'acheminer le câble où elle lui demande en prétextant des impossibilités techniques, n'en fait qu'à sa tête et creuse un trou dans la terrasse pour faire passer le câble. Ma mère est obligée d'intervenir et lui demande de tout arrêter. Il s'en va. Nouvelle prise de rendez-vous, nous demandons à changer de sous-traitant. Le rdv est pris pour un autre matin. Puis ce matin là à 9h, il est déplacé pour 13h et finalement le technicien ne viendra pas. Le rendez-vous est alors reporté au lendemain après-midi et une conseillère me planifie un rdv téléphonique à la suite de ce rdv (elle ne l'a bien sûr pas honoré). Finalement c'est le même sous-traitant, mais un technicien plus expérimenté. Il rebouche le trou (bien sur pas la bonne couleur). L'installation se passe bien. 1 journée et demie de perdu (= congés sans soldes), 1 terrasse détériorée. Je demande un dédommagement pour tout cela. On me propose un mois gratuit. Soit 10% de la somme que ça a engendré en frais annexe. Rien de plus, à peine des excuses, la conseillère absolument pas empathique ou sympathique, même pas de bonne journée en fin d'appel. Évidemment pour arriver à avoir cette personne je suis passée par au moins 10 interlocuteurs. Je suis dégoutée par ce traitement. Je suis dégoutée par SFR qui impose un certains nombre d'interventions à ses sous-traitants et par conséquent qu'ils ne peuvent pas honorés leurs rendez-vous. Je suis dégoutée du mépris du 1er technicien envers ma grand-mère. Pour l'instant le téléphone ne fonctionne toujours pas car le câble tel est différent entre l'ADSL et la fibre mais ça ce n'est rien par rapport au reste...   \n",
              "\n",
              "   Rating  \\\n",
              "0  1        \n",
              "1  1        \n",
              "\n",
              "                                                                                                                                                                                                                                                                                                                                                                                                                                                                                                                                                                                                                                                                                                                                                                                                                                                                                                                                                                                                                                                                                                                                                                                                     Review_cleaned  \\\n",
              "0  a fuir très mécontente après avoir attendu 6 heures technicien appartement loin chez où pouvais rien faire dû poser journée personne venu a promis dédommagement téléphone maintenant disent a écrit cela fait plus deux mois relancé entre temps 2 fois ultra mécontente vraie arnaque                                                                                                                                                                                                                                                                                                                                                                                                                                                                                                                                                                                                                                                                                                                                                                                                                                                                                                                            \n",
              "1  prise rdv installation fibre chez grand mère technicien refuse acheminer câble où demande prétextant impossibilités techniques fait tête creuse trou terrasse faire passer câble mère obligée intervenir demande tout arrêter va nouvelle prise rendez demandons changer sous traitant rdv pris autre matin puis matin là 9h déplacé 13h finalement technicien viendra rendez alors reporté lendemain après midi conseillère planifie rdv téléphonique suite rdv a bien sûr honoré finalement sous traitant technicien plus expérimenté rebouche trou bien bonne couleur installation passe bien 1 journée demie perdu congés sans soldes 1 terrasse détériorée demande dédommagement tout cela propose mois gratuit 10 somme ça a engendré frais annexe rien plus peine excuses conseillère absolument empathique sympathique bonne journée fin appel évidemment arriver avoir cette personne passée moins 10 interlocuteurs dégoutée traitement dégoutée sfr impose certains nombre interventions sous traitants conséquent peuvent honorés leurs rendez dégoutée mépris 1er technicien envers grand mère instant téléphone fonctionne toujours car câble tel différent entre adsl fibre ça rien rapport reste   \n",
              "\n",
              "                         Category  \n",
              "0  Installation/Service technique  \n",
              "1  Installation/Service technique  "
            ]
          },
          "execution_count": 32,
          "metadata": {},
          "output_type": "execute_result"
        }
      ],
      "source": [
        "df.head(2)"
      ]
    }
  ],
  "metadata": {
    "colab": {
      "provenance": []
    },
    "kernelspec": {
      "display_name": "Python 3",
      "language": "python",
      "name": "python3"
    },
    "language_info": {
      "codemirror_mode": {
        "name": "ipython",
        "version": 3
      },
      "file_extension": ".py",
      "mimetype": "text/x-python",
      "name": "python",
      "nbconvert_exporter": "python",
      "pygments_lexer": "ipython3",
      "version": "3.9.13 (tags/v3.9.13:6de2ca5, May 17 2022, 16:36:42) [MSC v.1929 64 bit (AMD64)]"
    },
    "vscode": {
      "interpreter": {
        "hash": "43a24ecce625020f2d6631fb4cfb730bba30d877e9fe9ec2e0d85cb5a52a2b64"
      }
    }
  },
  "nbformat": 4,
  "nbformat_minor": 0
}
